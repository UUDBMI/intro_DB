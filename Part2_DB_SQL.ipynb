{
 "cells": [
  {
   "cell_type": "markdown",
   "metadata": {},
   "source": [
    "## Part 2. SQL Review (Select statements)"
   ]
  },
  {
   "cell_type": "markdown",
   "metadata": {
    "collapsed": true
   },
   "source": [
    "<u>Overview</u>\n",
    "\n",
    "Please watch the following videos\n",
    "<ul>\n",
    "<li> Introduction to Relational Databases (about 12 minutes): https://youtu.be/4h3buIkePnw . <br>\n",
    "Consider - what is a database and what makes it \"relational\"?</li>\n",
    "<li>Overview of the exemplar sndb.db (about 9 minutes): https://youtu.be/J3S5fLfyJ88 </li>\n",
    "</ul>\n",
    "\n",
    "Try it!"
   ]
  },
  {
   "cell_type": "markdown",
   "metadata": {},
   "source": [
    "<u>For each of the following</u>, I will assume you are **in the terminal window, with sqlite running the sndb.db** as above.\n",
    "\n",
    "\n",
    "*Format output*\n",
    "\n",
    "In the terminal window, with sqlite running the sndb.db (as above) - lets set things up to display the query results in a nice format.\n",
    "\n",
    "Use the **.header on** command to tell the system to display column names\n",
    "\n",
    "Use the **.mode columns** command to format the results in columns\n",
    "\n",
    "<img src=\"media/formatoutput.jpg\">\n",
    "\n"
   ]
  },
  {
   "cell_type": "markdown",
   "metadata": {
    "collapsed": true
   },
   "source": [
    "### SQL Select statement (reading data)\n",
    "\n",
    "<u>Overview</u>  https://youtu.be/jWGA0CD_NMc"
   ]
  },
  {
   "cell_type": "markdown",
   "metadata": {},
   "source": [
    "Practice. Try running these queries in the sndb.db file.\n",
    "\n",
    "*Simple queries*\n",
    "\n",
    "    Select * from demog;\n",
    "\n",
    "    Select ptname, pt_id from demog;\n",
    "\n",
    "*Concatenation, limits*\n",
    "\n",
    "Concatenation combines columns, or lets you add text to the data in the column. The \"limit\" clause restricts how many rows show up in our results. \n",
    "\n",
    "Still in the terminal window with sqlite running the sndb.db - try this query\n",
    "\n",
    "    select ptname || ' zip: '||zip  as thepatient from demog limit 3;\n",
    "\n",
    "*Distinct*\n",
    "\n",
    "    Select gender from demog; \n",
    "\n",
    "    Select distinct gender from demog;"
   ]
  },
  {
   "cell_type": "markdown",
   "metadata": {},
   "source": [
    "<u>WHERE clause</u>\n",
    "\n",
    "*Overview* (4 minutes): https://youtu.be/kjRms4_iyvk\n",
    "\n",
    "Practice\n",
    "      \n",
    "    Select pt_id, ptname from demog where ptname = 'Hall, Arsenio';\n",
    "\n",
    "    Select count(*) from demog where gender is null;\n",
    "    "
   ]
  },
  {
   "cell_type": "markdown",
   "metadata": {},
   "source": [
    "*Table Joins* (11 min): https://youtu.be/XcEeR5mD-b4\n",
    "\n",
    "This video shows the ANSI standard version of SQL for table joins, which does the join in the WHERE clause. You may have previously learned table joins in the FROM clause - that is also allowable by most DBMS. You can put the SQL on a single line or multiple lines in the terminal window\n",
    "\n",
    "Practice\n",
    "\n",
    "    SELECT d.pt_id, ptname, temper\n",
    "    FROM demog d, vitals v\n",
    "    WHERE d.pt_id = v.pt_id;\n",
    "    \n",
    "Multiple tables are joined in pairs\n",
    "\n",
    "    SELECT d.pt_id, ptname, ad.diagnosis as admit, dc.diagnosis as discharge\n",
    "    FROM demog d, adm_dx ad, dsc_dx dc\n",
    "    WHERE d.pt_id = ad.pt_id\n",
    "    AND d.pt_id = dc.pt_id;"
   ]
  },
  {
   "cell_type": "markdown",
   "metadata": {},
   "source": [
    "\n",
    "*Conditions, predicate logic* (8 min): https://youtu.be/VoUFc-Yjgb0\n",
    "\n",
    "Practice\n",
    "\n",
    "    SELECT d.pt_id, ptname, HR\n",
    "    FROM demog.d, vitals v\n",
    "    WHERE d.pt_id = v.pt_id\n",
    "    AND HR > 80;\n",
    "    \n",
    "    Select ptname from demog\n",
    "    where zip IN ('20015', '21060', '23315');\n",
    "    \n",
    "    Select * from demog where ptname like 'Cr_stal%';\n"
   ]
  },
  {
   "cell_type": "markdown",
   "metadata": {},
   "source": [
    "<u>Functions</u>\n",
    "\n",
    "Sorting and grouping, functions (9 min): https://youtu.be/Ld2Uy4zF9Tg\n",
    "\n",
    "Practice\n",
    "\n",
    "    Select pt_id, temper from vitals\n",
    "    order by pt_id, temper desc\n",
    "    limit 20;\n",
    "\n",
    "    select pt_id, temper from vitals\n",
    "    order by cast(pt_id as integer), temper desc\n",
    "    limit 20;\n",
    "    \n",
    "    Select count(SBP) as TheCount, min(SBP) as MinSBP, max (temper) as HighTemp From vitals;\n",
    "    \n",
    "    SELECT pt_id, count(SBP) as TheCount, min(SBP) as MinSBP, max (temper) as HighTemp\n",
    "    FROM vitals\n",
    "    GROUP BY pt_id\n",
    "    HAVING count(SBP)>4\n",
    "    limit 20;\n",
    "\n"
   ]
  },
  {
   "cell_type": "markdown",
   "metadata": {},
   "source": [
    "<u>Miscellaneous</u>\n",
    "\n",
    "Miscellaneous tidbits (8 min): https://youtu.be/eSVVE76CI4k\n",
    "\n",
    "Practice\n",
    "\n",
    "*Note there is a typo in the video on this query. Correct version is below*\n",
    "\n",
    "    Select d.pt_id, ptname\n",
    "    From demog d, vitals v\n",
    "    Where d.pt_id=v.pt_id\n",
    "    and temper > (Select avg(temper) from vitals);\n",
    " "
   ]
  },
  {
   "cell_type": "markdown",
   "metadata": {},
   "source": [
    "## Next\n",
    "\n",
    "You should have everything you need to do the homework. Remember to close the database using the **.exit** command. You should close the terminal window when you are finished, as well."
   ]
  }
 ],
 "metadata": {
  "kernelspec": {
   "display_name": "Python 3",
   "language": "python",
   "name": "python3"
  },
  "language_info": {
   "codemirror_mode": {
    "name": "ipython",
    "version": 3
   },
   "file_extension": ".py",
   "mimetype": "text/x-python",
   "name": "python",
   "nbconvert_exporter": "python",
   "pygments_lexer": "ipython3",
   "version": "3.6.1"
  }
 },
 "nbformat": 4,
 "nbformat_minor": 2
}
