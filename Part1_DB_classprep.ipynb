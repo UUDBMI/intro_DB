{
 "cells": [
  {
   "cell_type": "markdown",
   "metadata": {},
   "source": [
    "## Part 1. Preparation"
   ]
  },
  {
   "cell_type": "markdown",
   "metadata": {},
   "source": [
    "HINT: control + enter will evaluate cells in the notebook\n",
    "\n",
    "To practice the activities in this module, you will  find it most convenient to use the terminal window and interact directly with the database there. \n",
    "\n",
    "If you have not done so already, go back to the main jupyter window and open a new terminal (go to the NEW menu on the upper right, and choose TERMINAL). This will open a terminal window in another tab of your browser \n",
    "\n",
    "<img src=\"media/newterminal.jpg\">\n",
    "\n",
    "You should be able to go back and forth between the browser tab with your notebook page (instructions) and the tab with the terminal window, to practice the instructions."
   ]
  },
  {
   "cell_type": "markdown",
   "metadata": {},
   "source": [
    "The FIRST TIME you work in this module, you might find it most convenient to copy the database into your work directory if it's not already there. To do this, first navigate to the databases folder\n",
    "\n",
    "cd ../DATA/DBs\n",
    "\n",
    "Then copy the sndb.db file to your work directory\n",
    "\n",
    "cp sndb.db ../../work\n",
    "\n",
    "YOU CAN TRY JUST EVALUATING THE CELL BELOW.\n",
    "\n",
    "The rest of these instructions assume \n",
    "1. You have a copy of the database in your work directory. \n",
    "2. You are in the work directory. Once you open the new terminal window, navigate to the work directory (cd work) and start from there."
   ]
  },
  {
   "cell_type": "code",
   "execution_count": 3,
   "metadata": {},
   "outputs": [],
   "source": [
    "%%bash\n",
    "cd DATA/DBs\n",
    "cp sndb.db ../../work"
   ]
  },
  {
   "cell_type": "markdown",
   "metadata": {},
   "source": [
    "To start the sqlite DBMS, go to the terminal window. Check to make sure you are in the work directory. Then enter the command **sqlite3** followed by the name of the database:\n",
    "\n",
    "jovyan@aa3d9163f29c:~/work$ sqlite3 sndb.db\n",
    "\n",
    "It will return something like the following:   SQLite version 3.13.0 2016-05-18 10:57:30"
   ]
  },
  {
   "cell_type": "markdown",
   "metadata": {},
   "source": [
    "The sqlite DBMS has special \"dot commands\" that are short cuts to common activities. See https://sqlite.org/cli.html for a list of those."
   ]
  },
  {
   "cell_type": "markdown",
   "metadata": {},
   "source": [
    "To get a list of tables, type .tables\n",
    "\n"
   ]
  },
  {
   "cell_type": "markdown",
   "metadata": {},
   "source": [
    "If you want to explore the structure of the tables, you can use the .schema command \n",
    "\n",
    "\n",
    "**When you are done** in the terminal, please close the database file before stopping the terminal window. Do that with the \".exit\" command.\n"
   ]
  },
  {
   "cell_type": "markdown",
   "metadata": {},
   "source": [
    "<u>For each example from here on </u>, I will assume you are **in the terminal window, with sqlite running the sndb.db** as above.\n",
    "\n",
    "\n",
    "*Format output*\n",
    "\n",
    "In the terminal window, with sqlite running the sndb.db (as above) - lets set things up to display the query results in a nice format.\n",
    "\n",
    "Use the **.headers on** command to tell the system to display column names\n",
    "\n",
    "Use the **.mode columns** command to format the results in columns\n",
    "\n",
    "<img src=\"media/formatoutput.jpg\">\n",
    "\n"
   ]
  },
  {
   "cell_type": "markdown",
   "metadata": {},
   "source": [
    "## Next ##\n",
    "\n",
    "You can move on to [Part 2](Part2_DB_SQL.ipynb). Remember to close the database using the .exit command when you are done. You should close the terminal process as well - go to the \"Running\" tab in the notebook and stop the terminal."
   ]
  }
 ],
 "metadata": {
  "kernelspec": {
   "display_name": "Python 3",
   "language": "python",
   "name": "python3"
  },
  "language_info": {
   "codemirror_mode": {
    "name": "ipython",
    "version": 3
   },
   "file_extension": ".py",
   "mimetype": "text/x-python",
   "name": "python",
   "nbconvert_exporter": "python",
   "pygments_lexer": "ipython3",
   "version": "3.6.1"
  }
 },
 "nbformat": 4,
 "nbformat_minor": 2
}
